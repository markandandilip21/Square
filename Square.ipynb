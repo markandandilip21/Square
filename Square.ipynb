{
 "cells": [
  {
   "cell_type": "code",
   "execution_count": 2,
   "id": "548df198",
   "metadata": {},
   "outputs": [
    {
     "name": "stdout",
     "output_type": "stream",
     "text": [
      "Enter numbers separated by spaces: 4 5 2 9 \n",
      "Original numbers: [4, 5, 2, 9]\n",
      "Square the elements of the list:\n",
      "[16, 25, 4, 81]\n"
     ]
    }
   ],
   "source": [
    "def square_number(n):\n",
    "    return n ** 2\n",
    "input_numbers = [int(x) for x in input(\"Enter numbers separated by spaces: \").split()]\n",
    "squared_numbers = list(map(square_number, input_numbers))\n",
    "\n",
    "print(\"Original numbers:\", input_numbers)\n",
    "print(\"Square the elements of the list:\")\n",
    "print(squared_numbers)\n"
   ]
  },
  {
   "cell_type": "code",
   "execution_count": null,
   "id": "64955b3f",
   "metadata": {},
   "outputs": [],
   "source": []
  }
 ],
 "metadata": {
  "kernelspec": {
   "display_name": "Python 3 (ipykernel)",
   "language": "python",
   "name": "python3"
  },
  "language_info": {
   "codemirror_mode": {
    "name": "ipython",
    "version": 3
   },
   "file_extension": ".py",
   "mimetype": "text/x-python",
   "name": "python",
   "nbconvert_exporter": "python",
   "pygments_lexer": "ipython3",
   "version": "3.10.9"
  }
 },
 "nbformat": 4,
 "nbformat_minor": 5
}
